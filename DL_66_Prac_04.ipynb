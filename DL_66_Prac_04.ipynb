{
  "nbformat": 4,
  "nbformat_minor": 0,
  "metadata": {
    "colab": {
      "provenance": [],
      "authorship_tag": "ABX9TyOqaqLAAuXZpatdd4M7tRBd",
      "include_colab_link": true
    },
    "kernelspec": {
      "name": "python3",
      "display_name": "Python 3"
    },
    "language_info": {
      "name": "python"
    }
  },
  "cells": [
    {
      "cell_type": "markdown",
      "metadata": {
        "id": "view-in-github",
        "colab_type": "text"
      },
      "source": [
        "<a href=\"https://colab.research.google.com/github/PythonIndian/Python/blob/main/DL_66_Prac_04.ipynb\" target=\"_parent\"><img src=\"https://colab.research.google.com/assets/colab-badge.svg\" alt=\"Open In Colab\"/></a>"
      ]
    },
    {
      "cell_type": "markdown",
      "source": [
        "Exp-04a\n"
      ],
      "metadata": {
        "id": "OBjsCWCC39ix"
      }
    },
    {
      "cell_type": "code",
      "execution_count": 1,
      "metadata": {
        "id": "0Yj-iqLU2i81"
      },
      "outputs": [],
      "source": [
        "import numpy as np"
      ]
    },
    {
      "cell_type": "code",
      "source": [
        "# Generate input values x\n",
        "x = np.linspace(-3,3,61)   # 61 points from -3 to 3\n",
        "# Calculate target values\n",
        "y_true = np.sin(x)  # sine of each x"
      ],
      "metadata": {
        "id": "PYR8yrs14HWg"
      },
      "execution_count": 2,
      "outputs": []
    },
    {
      "cell_type": "code",
      "source": [
        "np.random.seed(42)  # For consistent results"
      ],
      "metadata": {
        "id": "nq8CyCzS4Hnr"
      },
      "execution_count": 3,
      "outputs": []
    },
    {
      "cell_type": "code",
      "source": [
        "input_size = 1\n",
        "hidden_size = 10\n",
        "output_size = 1"
      ],
      "metadata": {
        "id": "aqvnLkw84bu0"
      },
      "execution_count": 4,
      "outputs": []
    },
    {
      "cell_type": "code",
      "source": [
        "W1 = np.random.randn(input_size,hidden_size)  # Input to hidden layer weights\n",
        "b1 = np.zeros((1,hidden_size))  # Hidden layer biases\n",
        "W2 = np.random.randn(hidden_size,output_size)   # Hidden to output layer weights\n",
        "b2 = np.zeros((1,output_size))  # Output layer biases"
      ],
      "metadata": {
        "id": "ZBRfKb6q4b4W"
      },
      "execution_count": 5,
      "outputs": []
    },
    {
      "cell_type": "code",
      "source": [
        "def relu(z):\n",
        "    return np.maximum(0, z)"
      ],
      "metadata": {
        "id": "n5LrhBtU4H_8"
      },
      "execution_count": 6,
      "outputs": []
    },
    {
      "cell_type": "code",
      "source": [
        "learning_rate = 0.01\n",
        "epochs = 1000  # Number of times to loop through the entire dataset"
      ],
      "metadata": {
        "id": "fRxd1_SG5h1F"
      },
      "execution_count": 7,
      "outputs": []
    },
    {
      "cell_type": "code",
      "source": [
        "for epochs in range(epochs):\n",
        "  # Forward pass\n",
        "  Z1 = np.dot(x.reshape(-1,1), W1) + b1\n",
        "  A1 = relu(Z1)\n",
        "  Z2 = np.dot(A1, W2) + b2\n",
        "  y_pred = Z2.flatten()"
      ],
      "metadata": {
        "id": "_r0VWHn-5h4d"
      },
      "execution_count": 8,
      "outputs": []
    },
    {
      "cell_type": "code",
      "source": [
        "# Calculate the loss (Mean Squared Error)\n",
        "loss = np.mean((y_pred - y_true) ** 2)"
      ],
      "metadata": {
        "id": "22hjr39K5h-x"
      },
      "execution_count": 9,
      "outputs": []
    },
    {
      "cell_type": "code",
      "source": [
        "# Backpropagation (simplified for understanding, focusing on the concept)\n",
        "# Compute gradients (derivatives) of loss w.r.t weights and biases\n",
        "# (Assuming specific simple derivatives for educational purposes)\n",
        "# Update weights and biases using gradient descent\n"
      ],
      "metadata": {
        "id": "qk9K1gxP5iMp"
      },
      "execution_count": null,
      "outputs": []
    },
    {
      "cell_type": "code",
      "source": [
        "# Placeholder for actual backpropagation code\n",
        "# This part involves calculus and matrix operations to find gradients\n",
        "# and update the parameters W1, b1, W2, b2"
      ],
      "metadata": {
        "id": "3K8MVfha8UwG"
      },
      "execution_count": null,
      "outputs": []
    },
    {
      "cell_type": "code",
      "source": [
        "import matplotlib.pyplot as plt"
      ],
      "metadata": {
        "id": "52oF-ZLa8YPA"
      },
      "execution_count": 10,
      "outputs": []
    },
    {
      "cell_type": "code",
      "source": [
        "# Plotting the original sine curve and the neural network's approximation\n",
        "plt.plot(x, y_true, label='True sine curve')\n",
        "plt.plot(x,y_pred, label='Neural network approximation')\n",
        "plt.legend()\n",
        "plt.xlabel('x')\n",
        "plt.ylabel('sin(x)')\n",
        "plt.title('Sine Function and Neural Network Approximation')\n",
        "plt.show()"
      ],
      "metadata": {
        "colab": {
          "base_uri": "https://localhost:8080/",
          "height": 472
        },
        "id": "S5i9nIPX8YWo",
        "outputId": "0f514087-2183-44f0-d76e-90cee6d355ef"
      },
      "execution_count": 11,
      "outputs": [
        {
          "output_type": "display_data",
          "data": {
            "text/plain": [
              "<Figure size 640x480 with 1 Axes>"
            ],
            "image/png": "[encoded data removed]"
          },
          "metadata": {}
        }
      ]
    },
    {
      "cell_type": "code",
      "source": [],
      "metadata": {
        "id": "uahmGRRd8Yad"
      },
      "execution_count": null,
      "outputs": []
    },
    {
      "cell_type": "markdown",
      "source": [
        "Exp-4a Version-02\n"
      ],
      "metadata": {
        "id": "ICGpsbnz9vvB"
      }
    },
    {
      "cell_type": "code",
      "source": [
        "import numpy as np"
      ],
      "metadata": {
        "id": "POtkmUhY8Yjz"
      },
      "execution_count": 12,
      "outputs": []
    },
    {
      "cell_type": "code",
      "source": [
        "# Generate 61 points for x in thhe range [-3, 3]\n",
        "x = np.linspace(-3, 3, 61)\n",
        "# Compute the target sin(x) for each x\n",
        "y_true = np.sin(x)"
      ],
      "metadata": {
        "id": "SEVCVGbC8Yn-"
      },
      "execution_count": 14,
      "outputs": []
    },
    {
      "cell_type": "code",
      "source": [
        "# Define the size of each layer\n",
        "input_size = 1 # Single input\n",
        "hidden_size = 10 # Number of neurons in the hidden layer\n",
        "output_size = 1 # Single output"
      ],
      "metadata": {
        "id": "fHAbkgVC8Yzn"
      },
      "execution_count": 17,
      "outputs": []
    },
    {
      "cell_type": "code",
      "source": [
        "# Initialize weights and biases\n",
        "np.random.seed(42) # For reproducibility\n",
        "W1 = np.random.randn(input_size,hidden_size)\n",
        "b1 = np.zeros((1, hidden_size))\n",
        "W2 = np.random.randn(hidden_size, output_size)\n",
        "b2 = np.zeros((1, output_size))"
      ],
      "metadata": {
        "id": "cVDalO-4-kD4"
      },
      "execution_count": 18,
      "outputs": []
    },
    {
      "cell_type": "code",
      "source": [
        "def relu(z):\n",
        "    return np.maximum(0, z)"
      ],
      "metadata": {
        "id": "uxzKFnEb-kHG"
      },
      "execution_count": 23,
      "outputs": []
    },
    {
      "cell_type": "code",
      "source": [
        "def relu_deriv(z):\n",
        "    return (z > 0).astype(float)"
      ],
      "metadata": {
        "id": "9p0bfVTOAqpr"
      },
      "execution_count": 24,
      "outputs": []
    },
    {
      "cell_type": "code",
      "source": [
        "learning_rate = 0.01\n",
        "epochs = 1000\n",
        "losses = []"
      ],
      "metadata": {
        "id": "L6v4jEHsAqsc"
      },
      "execution_count": 25,
      "outputs": []
    },
    {
      "cell_type": "code",
      "source": [
        "for epoch in range(epochs):\n",
        "  # Forward pass\n",
        "  Z1 = np.dot(x.reshape(-1, 1), W1) + b1\n",
        "  A1 = relu(Z1)\n",
        "  Z2 = np.dot(A1, W2) + b2\n",
        "  y_pred = Z2"
      ],
      "metadata": {
        "id": "oOYGCMWRAqxV"
      },
      "execution_count": 26,
      "outputs": []
    },
    {
      "cell_type": "code",
      "source": [
        "# Compute loss (Mean Squared Error)\n",
        "loss = np.mean((y_pred.flatten() - y_true) ** 2)\n",
        "losses.append(loss)"
      ],
      "metadata": {
        "id": "Peojy9qjAq1C"
      },
      "execution_count": 28,
      "outputs": []
    },
    {
      "cell_type": "code",
      "source": [
        "# Backpropogation\n",
        "d_loss_y_pred = 2 * (y_pred.flatten() - y_true) / y_true.size\n",
        "d_loss_y_pred = d_loss_y_pred.reshape(-1,1)"
      ],
      "metadata": {
        "id": "xDGGERS9Aq7r"
      },
      "execution_count": 29,
      "outputs": []
    },
    {
      "cell_type": "code",
      "source": [
        "# Compute gradients\n",
        "d_loss_Z2 = d_loss_y_pred\n",
        "d_loss_A1 = np.dot(d_loss_Z2, W2.T)\n",
        "d_loss_W2 = np.dot(A1.T, d_loss_Z2)\n",
        "d_loss_b2 = np.sum(d_loss_Z2, axis=0, keepdims=True)\n",
        "d_loss_Z1 = d_loss_A1 * relu_deriv(Z1)\n",
        "d_loss_W1 = np.dot(x.reshape(-1, 1).T, d_loss_Z1)\n",
        "d_loss_b1 = np.sum(d_loss_Z1, axis=0, keepdims=True)"
      ],
      "metadata": {
        "id": "RnQEahTw-kKK"
      },
      "execution_count": 31,
      "outputs": []
    },
    {
      "cell_type": "code",
      "source": [
        "# Update weights and biases\n",
        "W1 -= learning_rate * d_loss_W1\n",
        "b1 -= learning_rate * d_loss_b1\n",
        "W2 -= learning_rate * d_loss_W2\n",
        "b2 -= learning_rate * d_loss_b2"
      ],
      "metadata": {
        "id": "WpPekau0-kNP"
      },
      "execution_count": 32,
      "outputs": []
    },
    {
      "cell_type": "code",
      "source": [
        "import matplotlib.pyplot as plt"
      ],
      "metadata": {
        "id": "Kt4SPmQE-kQV"
      },
      "execution_count": 33,
      "outputs": []
    },
    {
      "cell_type": "code",
      "source": [
        "plt.figure(figsize=(10,6))\n",
        "plt.plot(x, y_true, label='Target - sin(x)', color='blue')\n",
        "plt.plot(x, y_pred.flatten(), label='NN Output', color='red')\n",
        "plt.title('Comparision of Target and NN Output')\n",
        "plt.xlabel('x')\n",
        "plt.ylabel('y')\n",
        "plt.legend()\n",
        "plt.show()"
      ],
      "metadata": {
        "colab": {
          "base_uri": "https://localhost:8080/",
          "height": 420
        },
        "id": "sc70Rtp7-kWQ",
        "outputId": "61004823-e277-4ee9-e3d8-bca299fb2360"
      },
      "execution_count": 34,
      "outputs": [
        {
          "output_type": "display_data",
          "data": {
            "text/plain": [
              "<Figure size 1000x600 with 1 Axes>"
            ],
            "image/png": "[encoded data removed]"
          },
          "metadata": {}
        }
      ]
    },
    {
      "cell_type": "code",
      "source": [],
      "metadata": {
        "id": "c6K1ApnjKPiW"
      },
      "execution_count": null,
      "outputs": []
    },
    {
      "cell_type": "markdown",
      "source": [
        "Exp 4B"
      ],
      "metadata": {
        "id": "TBCTPqtBOXD4"
      }
    },
    {
      "cell_type": "code",
      "source": [
        "import numpy as np\n",
        "from tensorflow import keras\n",
        "from tensorflow.keras import layers\n"
      ],
      "metadata": {
        "id": "qd6_SZYJKPrJ"
      },
      "execution_count": 35,
      "outputs": []
    },
    {
      "cell_type": "code",
      "source": [
        "# Step 1: Load the MNIST dataset\n",
        "(X_train, y_train), (X_test, y_test) = keras.datasets.mnist.load_data()"
      ],
      "metadata": {
        "colab": {
          "base_uri": "https://localhost:8080/"
        },
        "id": "rGEluwGyKOCo",
        "outputId": "602a54ca-a109-4d46-c37e-fffe4b35f62a"
      },
      "execution_count": 36,
      "outputs": [
        {
          "output_type": "stream",
          "name": "stdout",
          "text": [
            "Downloading data from https://storage.googleapis.com/tensorflow/tf-keras-datasets/mnist.npz\n",
            "11490434/11490434 [==============================] - 0s 0us/step\n"
          ]
        }
      ]
    },
    {
      "cell_type": "code",
      "source": [
        "# Step 2: Preprocess the data\n",
        "# Normalize the input data\n",
        "X_train = X_train / 255.0\n",
        "X_test = X_test / 255.0\n"
      ],
      "metadata": {
        "id": "mYgNHPjYKOLW"
      },
      "execution_count": 37,
      "outputs": []
    },
    {
      "cell_type": "code",
      "source": [
        "# Step 3: Define the model architecture\n",
        "def create_model(hidden_layers=1, neurons=64, activation='relu', input_shape=(28, 28)):\n",
        "model = keras.Sequential()\n",
        "model.add(keras.layers.Flatten(input_shape=input_shape)) # Flatten the input\n",
        "for _ in range(hidden_layers):\n",
        "model.add(layers.Dense(neurons, activation=activation)) # Add hidden layers\n",
        "model.add(layers.Dense(10, activation='softmax')) # Output layer with softmax activation\n",
        "return model"
      ],
      "metadata": {
        "id": "0cPXC7-28Y3p"
      },
      "execution_count": null,
      "outputs": []
    },
    {
      "cell_type": "code",
      "source": [
        "# Example: Create a model with 2 hidden layers, 64 neurons each, using ReLU activation\n",
        "model = create_model(hidden_layers=2, neurons=64, activation='relu', input_shape=(28, 28))"
      ],
      "metadata": {
        "id": "qNzOo-ATKOV4"
      },
      "execution_count": null,
      "outputs": []
    },
    {
      "cell_type": "code",
      "source": [
        "# Step 4: Compile the model\n",
        "model.compile(optimizer='sgd', # Stochastic Gradient Descent\n",
        "loss='sparse_categorical_crossentropy', # Loss function for integers\n",
        "metrics=['accuracy'])"
      ],
      "metadata": {
        "id": "5jvup_tEPMdw"
      },
      "execution_count": null,
      "outputs": []
    },
    {
      "cell_type": "code",
      "source": [
        "# Step 5: Train the model\n",
        "history = model.fit(X_train, y_train, epochs=10, validation_split=0.1)"
      ],
      "metadata": {
        "id": "9yawZhEuPMo9"
      },
      "execution_count": null,
      "outputs": []
    },
    {
      "cell_type": "code",
      "source": [
        "# Step 6: Evaluate the model on the test set\n",
        "test_loss, test_acc = model.evaluate(X_test, y_test)\n",
        "print(f\"Test Accuracy: {test_acc:.4f}\")"
      ],
      "metadata": {
        "id": "-xTqI9TlPMuO"
      },
      "execution_count": null,
      "outputs": []
    }
  ]
}