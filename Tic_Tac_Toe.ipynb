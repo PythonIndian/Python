{
  "nbformat": 4,
  "nbformat_minor": 0,
  "metadata": {
    "colab": {
      "provenance": [],
      "authorship_tag": "ABX9TyMqzkVc6kxXsbWIplDlZxiz",
      "include_colab_link": true
    },
    "kernelspec": {
      "name": "python3",
      "display_name": "Python 3"
    },
    "language_info": {
      "name": "python"
    }
  },
  "cells": [
    {
      "cell_type": "markdown",
      "metadata": {
        "id": "view-in-github",
        "colab_type": "text"
      },
      "source": [
        "<a href=\"https://colab.research.google.com/github/PythonIndian/Python/blob/main/Tic_Tac_Toe.ipynb\" target=\"_parent\"><img src=\"https://colab.research.google.com/assets/colab-badge.svg\" alt=\"Open In Colab\"/></a>"
      ]
    },
    {
      "cell_type": "code",
      "execution_count": null,
      "metadata": {
        "colab": {
          "base_uri": "https://localhost:8080/"
        },
        "id": "DeL98Wnsrg1q",
        "outputId": "ebe1b6f6-00aa-47b3-a1af-204bbc7a79ec"
      },
      "outputs": [
        {
          "output_type": "stream",
          "name": "stdout",
          "text": [
            "  |   |  \n",
            "--|---|--\n",
            "  |   |  \n",
            "--|---|--\n",
            "  |   |  \n",
            "Player X, enter your move (1-9): 5\n",
            "  |   |  \n",
            "--|---|--\n",
            "  | X |  \n",
            "--|---|--\n",
            "  |   |  \n",
            "Player O, enter your move (1-9): 2\n",
            "  | O |  \n",
            "--|---|--\n",
            "  | X |  \n",
            "--|---|--\n",
            "  |   |  \n",
            "Player X, enter your move (1-9): 3\n",
            "  | O | X\n",
            "--|---|--\n",
            "  | X |  \n",
            "--|---|--\n",
            "  |   |  \n",
            "Player O, enter your move (1-9): 7\n",
            "  | O | X\n",
            "--|---|--\n",
            "  | X |  \n",
            "--|---|--\n",
            "O |   |  \n",
            "Player X, enter your move (1-9): 1\n",
            "X | O | X\n",
            "--|---|--\n",
            "  | X |  \n",
            "--|---|--\n",
            "O |   |  \n",
            "Player O, enter your move (1-9): 4\n",
            "X | O | X\n",
            "--|---|--\n",
            "O | X |  \n",
            "--|---|--\n",
            "O |   |  \n",
            "Player X, enter your move (1-9): 9\n",
            "X | O | X\n",
            "--|---|--\n",
            "O | X |  \n",
            "--|---|--\n",
            "O |   | X\n",
            "Player X wins!\n"
          ]
        }
      ],
      "source": [
        "def print_board(board):\n",
        "    print(board[0] + ' | ' + board[1] + ' | ' + board[2])\n",
        "    print('--|---|--')\n",
        "    print(board[3] + ' | ' + board[4] + ' | ' + board[5])\n",
        "    print('--|---|--')\n",
        "    print(board[6] + ' | ' + board[7] + ' | ' + board[8])\n",
        "\n",
        "def check_winner(board, player):\n",
        "    if (board[0] == player and board[1] == player and board[2] == player) or \\\n",
        "            (board[3] == player and board[4] == player and board[5] == player) or \\\n",
        "            (board[6] == player and board[7] == player and board[8] == player) or \\\n",
        "            (board[0] == player and board[3] == player and board[6] == player) or \\\n",
        "            (board[1] == player and board[4] == player and board[7] == player) or \\\n",
        "            (board[2] == player and board[5] == player and board[8] == player) or \\\n",
        "            (board[0] == player and board[4] == player and board[8] == player) or \\\n",
        "            (board[2] == player and board[4] == player and board[6] == player):\n",
        "        return True\n",
        "    return False\n",
        "\n",
        "def tic_tac_toe():\n",
        "    board = [' ' for _ in range(9)]\n",
        "    player = 'X'\n",
        "    game_over = False\n",
        "\n",
        "    while not game_over:\n",
        "        print_board(board)\n",
        "        move = int(input(f\"Player {player}, enter your move (1-9): \")) - 1\n",
        "\n",
        "        if board[move] == ' ':\n",
        "            board[move] = player\n",
        "            if check_winner(board, player):\n",
        "                print_board(board)\n",
        "                print(f\"Player {player} wins!\")\n",
        "                game_over = True\n",
        "            elif ' ' not in board:\n",
        "                print_board(board)\n",
        "                print(\"It's a tie!\")\n",
        "                game_over = True\n",
        "            else:\n",
        "                player = 'O' if player == 'X' else 'X'\n",
        "        else:\n",
        "            print(\"Invalid move, try again.\")\n",
        "\n",
        "    again = input(\"Do you want to play again? (yes/no): \")\n",
        "    if again.lower() == 'yes':\n",
        "        tic_tac_toe()\n",
        "\n",
        "if __name__ == \"__main__\":\n",
        "    tic_tac_toe()"
      ]
    }
  ]
}